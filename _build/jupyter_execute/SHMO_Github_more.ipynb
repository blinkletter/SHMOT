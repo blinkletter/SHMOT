{
 "cells": [
  {
   "cell_type": "markdown",
   "id": "8a85528c",
   "metadata": {},
   "source": [
    "# More Molecules\n",
    "\n",
    "Below are some **interaction matrices** that have been set up for the student. **Examine** how they are constructed, especially for the **cyclic molecules**. Cut and paste these into the HückelSolver Jupyter notebook and **explore** the electronic properties of these &pi; systems."
   ]
  },
  {
   "cell_type": "markdown",
   "id": "e3195ee0",
   "metadata": {},
   "source": [
    "\n",
    "```{figure} images/molecules.png\n",
    "---\n",
    "width: 550px\n",
    "name: molecules\n",
    "---\n",
    "*Various $\\pi$ systems*\n",
    "```\n"
   ]
  },
  {
   "cell_type": "code",
   "execution_count": 1,
   "id": "31439b1b",
   "metadata": {},
   "outputs": [],
   "source": [
    "import numpy"
   ]
  },
  {
   "cell_type": "code",
   "execution_count": 2,
   "id": "31b59e06",
   "metadata": {},
   "outputs": [],
   "source": [
    "## Benzene\n",
    "\n",
    "Name = \"Benzene\"\n",
    "Connections = numpy.array([[0,1,0,0,0,1],\n",
    "                           [1,0,1,0,0,0],\n",
    "                           [0,1,0,1,0,0],\n",
    "                           [0,0,1,0,1,0],\n",
    "                           [0,0,0,1,0,1],\n",
    "                           [1,0,0,0,1,0]])\n",
    "\n",
    "z = -Connections    # The HuckelSolver uses negative numbers for some reason.\n",
    "n = 6"
   ]
  },
  {
   "cell_type": "code",
   "execution_count": 3,
   "id": "8758df61",
   "metadata": {},
   "outputs": [],
   "source": [
    "## Furan\n",
    "\n",
    "Name = \"Furan\"\n",
    "Connections = numpy.array([[2,   0.8, 0,   0,   0.8],\n",
    "                           [0.8, 0.2, 1,   0,   0  ],\n",
    "                           [0,   1,   0,   1,   0  ],\n",
    "                           [0,   0,   1,   0,   1  ],\n",
    "                           [0.8, 0,   0,   1,   0.2]])\n",
    "\n",
    "z = -Connections    # The HuckelSolver uses negative numbers for some reason.\n",
    "n = 6"
   ]
  },
  {
   "cell_type": "code",
   "execution_count": 4,
   "id": "83c34e74",
   "metadata": {},
   "outputs": [],
   "source": [
    "## Cyclopentadiene\n",
    "\n",
    "Name = \"Cyclopentadiene\"\n",
    "Connections = numpy.array([[0,1,0,0,1],\n",
    "                           [1,0,1,0,0],\n",
    "                           [0,1,0,1,0],\n",
    "                           [0,0,1,0,1],\n",
    "                           [1,0,0,1,0]])\n",
    "\n",
    "z = -Connections    # The HuckelSolver uses negative numbers for some reason.\n",
    "n = 6"
   ]
  },
  {
   "cell_type": "code",
   "execution_count": 5,
   "id": "0c38bfcb",
   "metadata": {},
   "outputs": [],
   "source": [
    "## Benzyl Cation\n",
    "\n",
    "Name = \"benzyl cation\"\n",
    "Connections = numpy.array([[0,1,0,0,0,0,0],\n",
    "                           [1,0,1,0,0,0,1],\n",
    "                           [0,1,0,1,0,0,0],\n",
    "                           [0,0,1,0,1,0,0],\n",
    "                           [0,0,0,1,0,1,0],\n",
    "                           [0,0,0,0,1,0,1],\n",
    "                           [0,1,0,0,0,1,0]])\n",
    "\n",
    "z = -Connections    # The HuckelSolver uses negative numbers for some reason.\n",
    "n = 6"
   ]
  },
  {
   "cell_type": "code",
   "execution_count": 6,
   "id": "36b4f4a9",
   "metadata": {},
   "outputs": [],
   "source": [
    "## Naphthalein\n",
    "\n",
    "Name = \"Naphthalein\"\n",
    "Connections = numpy.array([[0,1,0,0,0,0,0,0,1,0],\n",
    "                           [1,0,1,0,0,0,0,0,0,0],\n",
    "                           [0,1,0,1,0,0,0,0,0,0],\n",
    "                           [0,0,1,0,1,0,0,0,0,1],\n",
    "                           [0,0,0,0,0,1,0,0,0,1],\n",
    "                           [0,0,0,0,1,0,1,0,0,0],\n",
    "                           [0,0,0,0,0,1,0,1,0,0],\n",
    "                           [0,0,0,0,0,0,1,0,1,0],\n",
    "                           [1,0,0,0,0,0,0,1,0,1],\n",
    "                           [0,0,0,1,1,0,0,0,1,0]])\n",
    "\n",
    "z = -Connections    # The HuckelSolver uses negative numbers for some reason.\n",
    "n = 10"
   ]
  },
  {
   "cell_type": "code",
   "execution_count": 7,
   "id": "df59dfb7",
   "metadata": {},
   "outputs": [],
   "source": [
    "## Azulene\n",
    "\n",
    "Name = \"Azulene\"\n",
    "Connections = numpy.array([[0,1,0,0,0,0,0,0,1,0],\n",
    "                           [1,0,1,0,0,0,0,0,0,0],\n",
    "                           [0,1,0,1,0,0,0,0,0,0],\n",
    "                           [0,0,1,0,1,0,0,0,0,0],\n",
    "                           [0,0,0,1,0,0,0,0,0,1],\n",
    "                           [0,0,0,0,0,0,1,0,0,1],\n",
    "                           [0,0,0,0,0,1,0,1,0,0],\n",
    "                           [0,0,0,0,0,0,1,0,1,0],\n",
    "                           [1,0,0,0,0,0,0,1,0,1],\n",
    "                           [0,0,0,0,1,1,0,0,1,0]])\n",
    "\n",
    "z = -Connections    # The HuckelSolver uses negative numbers for some reason.\n",
    "n = 10"
   ]
  }
 ],
 "metadata": {
  "kernelspec": {
   "display_name": "Python 3 (ipykernel)",
   "language": "python",
   "name": "python3"
  },
  "language_info": {
   "codemirror_mode": {
    "name": "ipython",
    "version": 3
   },
   "file_extension": ".py",
   "mimetype": "text/x-python",
   "name": "python",
   "nbconvert_exporter": "python",
   "pygments_lexer": "ipython3",
   "version": "3.9.7"
  }
 },
 "nbformat": 4,
 "nbformat_minor": 5
}