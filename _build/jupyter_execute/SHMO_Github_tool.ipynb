{
 "cells": [
  {
   "cell_type": "markdown",
   "id": "0d2d6964",
   "metadata": {},
   "source": [
    "# HückelSolver\n",
    "\n",
    "Never reinvent the wheel. I am willing to bet that every *Python* program that you plan to make has **already** been written. Randal Taylor has **written** a *Python* class library that provides tools for **calculating** parameters of SHMO systems. The code can be obtained [here](https://github.com/randlet/SHMO)\n",
    "\n",
    "A *class* is a **data object** that includes **functions** within it that can operate on the data that it contains. Imagine a **container** that can hold a number but also includes functions for incrementing and decrementing the number by a set value. This could all be wrapped into a **class** rather than a variable and two separate functions.\n",
    "\n",
    "When you call the class function, you **create** an object with that class (it has all the properties of the class). This is the heart of \"**object oriented programming**\". We don't care about that, we're just going to use it.\n"
   ]
  },
  {
   "cell_type": "markdown",
   "id": "0912b089",
   "metadata": {},
   "source": [
    "## Using a HuckelSolver Object\n",
    "\n",
    "To start, ensure that the `shmo.py` file is located in the **same directory** as this notebook.\n",
    "\n",
    "We **create** a HuckelSolver **object** by calling the `HuckelSolver()` class function. We provide the Hückel interaction **matrix** and the **number** of $\\pi$ electrons. The command `z = HuckelSolver(Array, Number)` will create the object `z` that contains all the Huckel **parameters** for the system defined by the interaction matrix `Array` with `Number` $\\pi$ electrons. `Array` may be any \"array-like\" object. It can be a list of lists, a *NumPy* array or a *NumPy* matrix. \n",
    "\n",
    "Once the HuckelSolver object is created from the data, the following **properties** may be queried.\n",
    "\n",
    "- `data`\n",
    "    - This is the **connection matrix** that was input into the HuckelSolver class function that created the object being queried. \n",
    "- `.num_electrons`\n",
    "    - An integer for the **number** of electrons that were used in the creation of the HuckelSolver object.\n",
    "- `.energies`\n",
    "    - a *NumPy* array of the **eigenvalues**. These are the relative orbital energies.\n",
    "- `.eigen_vectors`\n",
    "    - a list of *NumPy* arrays. Each item in the list is a *NumPy* array with orbital **coefficients** for the corresonding energy in `.energies`. For example, `.eigen_vectors[2]` is the array of coefficients for the orbital with the energy in `.energies[2]`. Each **array** is ordered according to atoms. So `.eigen_vectors[2][0]` is the coefficient on the first (0<sup>th</sup>) atom in the array for the orbital in position 2 of the list (which is the 3<sup>rd</sup> orbital, remember all *Python* lists and arrays begin at position \"0\").\n",
    "- `.charge_densities`\n",
    "    - A *NumPy* array of the $\\pi$ electron density on each atom.\n",
    "- `.net_charges`\n",
    "    - A *NumPy* array of the net charge (due to $\\pi$ electrons) on each atom.\n",
    "- `.bond_orders`\n",
    "    - a *NumPy* matrix with bond orders. Look to the cells that **correspond** to bonds to get the order of the $\\pi$ bond between the two referenced atoms (e.g., cell 2,3 will contain the bond order between atoms 2 and atom 3). Cells that do not reference bonds contain values but are not important.\n",
    "- `.energy_eigens`\n",
    "    - This is a **combination** of `.energies` and `.energies`. It is a list of lists for each orbital. Each sublist contains the orbital energy and the corresponding array of eigenvectors.\n",
    "- `.populated_levels`\n",
    "    - This is a subclass that contains **three types of data**. It is a list of data for each orbital. Each orbital is represented by an object that contains the energy (of the given molecular orbital), eigenvector (orbital coefficients at each atom) and the number of electrons in the orbital.\n",
    "\n"
   ]
  },
  {
   "cell_type": "markdown",
   "id": "af55dc26",
   "metadata": {},
   "source": [
    "### Step 1: Import Your Tools\n",
    "There is a *Python** package for just about every endeavour. We will use the *NumPy* package to provide **array objects** and we will use the *shmo* package that provides the **HuckelSolver class function**. *NumPy* is included in most *Python* distributions. `shmo.py` can be downloaded from Randal Taylor's github site at <https://github.com/randlet/SHMO>"
   ]
  },
  {
   "cell_type": "code",
   "execution_count": 1,
   "id": "0a280585",
   "metadata": {},
   "outputs": [],
   "source": [
    "from shmo import HuckelSolver\n",
    "import numpy"
   ]
  },
  {
   "cell_type": "markdown",
   "id": "e3195ee0",
   "metadata": {},
   "source": [
    "### Step 2: Create The Interaction Matrix\n",
    "Using the **rules** of Simplified Hückel Molecular Orbital Theory (SHMO) we can create a 2-dimensional *NumPy* array that represents the **bond connectivity** for our $\\pi$ system. We can also provide **adjustments** for heteroatoms as described in the [previous chapter](Polar_Atoms_HMOT).\n",
    "\n",
    "Below are **two options**. Execute a single choice of the blocks below and then proceed to step 3. Note that in these examples, I am using position zero as the first atom. This **matches** the way *Python* addresses arrays.\n",
    "\n",
    "```{figure} images/acrolein_butadiene.png\n",
    "---\n",
    "width: 300px\n",
    "name: images/acrolein_butadiene\n",
    "---\n",
    "*Butadiene and Acrolein*\n",
    "```\n"
   ]
  },
  {
   "cell_type": "code",
   "execution_count": 2,
   "id": "31b59e06",
   "metadata": {},
   "outputs": [],
   "source": [
    "## Acrolein\n",
    "\n",
    "Name = \"Acrolein\"\n",
    "Connections = numpy.array([[1,  1,   0,  0],\n",
    "                           [1,  0.1, 1,  0],\n",
    "                           [0,  1,   0,  1],\n",
    "                           [0,  0,   1,  0]])\n",
    "\n",
    "\n",
    "\n",
    "z = -Connections    # The HuckelSolver uses negative numbers for some reason.\n",
    "n = 4"
   ]
  },
  {
   "cell_type": "code",
   "execution_count": 3,
   "id": "8758df61",
   "metadata": {},
   "outputs": [],
   "source": [
    "## Butadiene\n",
    "\n",
    "Name = \"Butadiene\"\n",
    "Connections = numpy.array([[0,1,0,0],\n",
    "                           [1,0,1,0],\n",
    "                           [0,1,0,1],\n",
    "                           [0,0,1,0]])\n",
    "\n",
    "z = -Connections    # The HuckelSolver uses negative numbers for some reason.\n",
    "n = 4"
   ]
  },
  {
   "cell_type": "markdown",
   "id": "f9ee5e27",
   "metadata": {},
   "source": [
    "### Step 3: Create the HuckelSolver Object\n",
    "By inputing the **interaction matrix** and the **number of electrons**, the HuckelSolver() function will create an object with all the Hückel calculation results contained within. In the example below, we create a HuckelSolver **object** called `Result` using the interaction matrix, `z`, and the number of $\\pi$ electrons, `n`. We now have all the **results**. We are done. One line of code performed all the hard work for us. And the tool was written by **someone else** - sweet!"
   ]
  },
  {
   "cell_type": "code",
   "execution_count": 4,
   "id": "2aa3acbd",
   "metadata": {},
   "outputs": [
    {
     "ename": "AttributeError",
     "evalue": "module 'numpy' has no attribute 'float'.\n`np.float` was a deprecated alias for the builtin `float`. To avoid this error in existing code, use `float` by itself. Doing this will not modify any behavior and is safe. If you specifically wanted the numpy scalar type, use `np.float64` here.\nThe aliases was originally deprecated in NumPy 1.20; for more details and guidance see the original release note at:\n    https://numpy.org/devdocs/release/1.20.0-notes.html#deprecations",
     "output_type": "error",
     "traceback": [
      "\u001b[0;31m---------------------------------------------------------------------------\u001b[0m",
      "\u001b[0;31mAttributeError\u001b[0m                            Traceback (most recent call last)",
      "Cell \u001b[0;32mIn[4], line 1\u001b[0m\n\u001b[0;32m----> 1\u001b[0m Result \u001b[38;5;241m=\u001b[39m HuckelSolver(z,n)\n",
      "File \u001b[0;32m~/Documents/GitHub/SHMOT/shmo.py:30\u001b[0m, in \u001b[0;36mHuckelSolver.__init__\u001b[0;34m(self, data, num_electrons)\u001b[0m\n\u001b[1;32m     28\u001b[0m     \u001b[38;5;28mself\u001b[39m\u001b[38;5;241m.\u001b[39mnum_electrons \u001b[38;5;241m=\u001b[39m \u001b[38;5;241m0\u001b[39m\n\u001b[1;32m     29\u001b[0m \u001b[38;5;28;01melse\u001b[39;00m:\n\u001b[0;32m---> 30\u001b[0m     \u001b[38;5;28mself\u001b[39m\u001b[38;5;241m.\u001b[39mset_data(data,num_electrons)\n",
      "File \u001b[0;32m~/Documents/GitHub/SHMOT/shmo.py:53\u001b[0m, in \u001b[0;36mHuckelSolver.set_data\u001b[0;34m(self, data, num_electrons)\u001b[0m\n\u001b[1;32m     50\u001b[0m \u001b[38;5;28;01mif\u001b[39;00m \u001b[38;5;129;01mnot\u001b[39;00m (\u001b[38;5;241m0\u001b[39m \u001b[38;5;241m<\u001b[39m \u001b[38;5;28mself\u001b[39m\u001b[38;5;241m.\u001b[39mnum_electrons \u001b[38;5;241m<\u001b[39m\u001b[38;5;241m=\u001b[39m \u001b[38;5;28mself\u001b[39m\u001b[38;5;241m.\u001b[39mdata\u001b[38;5;241m.\u001b[39mshape[\u001b[38;5;241m0\u001b[39m]\u001b[38;5;241m*\u001b[39m\u001b[38;5;241m2\u001b[39m):\n\u001b[1;32m     51\u001b[0m     \u001b[38;5;28;01mraise\u001b[39;00m \u001b[38;5;167;01mValueError\u001b[39;00m(\u001b[38;5;124m\"\u001b[39m\u001b[38;5;124mNumber of electrons(\u001b[39m\u001b[38;5;132;01m%d\u001b[39;00m\u001b[38;5;124m) must be greater than zero and less than or equal to 2*number of atoms (\u001b[39m\u001b[38;5;132;01m%d\u001b[39;00m\u001b[38;5;124m)\u001b[39m\u001b[38;5;124m\"\u001b[39m \u001b[38;5;241m%\u001b[39m(\u001b[38;5;28mself\u001b[39m\u001b[38;5;241m.\u001b[39mnum_electrons,\u001b[38;5;28mself\u001b[39m\u001b[38;5;241m.\u001b[39mdata\u001b[38;5;241m.\u001b[39mshape[\u001b[38;5;241m0\u001b[39m]\u001b[38;5;241m*\u001b[39m\u001b[38;5;241m2\u001b[39m))\n\u001b[0;32m---> 53\u001b[0m \u001b[38;5;28mself\u001b[39m\u001b[38;5;241m.\u001b[39m_solve()\n",
      "File \u001b[0;32m~/Documents/GitHub/SHMOT/shmo.py:63\u001b[0m, in \u001b[0;36mHuckelSolver._solve\u001b[0;34m(self)\u001b[0m\n\u001b[1;32m     61\u001b[0m \u001b[38;5;28mself\u001b[39m\u001b[38;5;241m.\u001b[39m_solve_eigens()\n\u001b[1;32m     62\u001b[0m \u001b[38;5;28mself\u001b[39m\u001b[38;5;241m.\u001b[39m_populate_levels()\n\u001b[0;32m---> 63\u001b[0m \u001b[38;5;28mself\u001b[39m\u001b[38;5;241m.\u001b[39m_calc_bond_orders()\n\u001b[1;32m     64\u001b[0m \u001b[38;5;28mself\u001b[39m\u001b[38;5;241m.\u001b[39m_calc_charges()\n\u001b[1;32m     65\u001b[0m \u001b[38;5;28mself\u001b[39m\u001b[38;5;241m.\u001b[39m_calc_aa_polarizability()\n",
      "File \u001b[0;32m~/Documents/GitHub/SHMOT/shmo.py:105\u001b[0m, in \u001b[0;36mHuckelSolver._calc_bond_orders\u001b[0;34m(self)\u001b[0m\n\u001b[1;32m    103\u001b[0m \u001b[38;5;250m\u001b[39m\u001b[38;5;124;03m\"\"\"calculate pi bond orders for system\"\"\"\u001b[39;00m\n\u001b[1;32m    104\u001b[0m size \u001b[38;5;241m=\u001b[39m \u001b[38;5;28mself\u001b[39m\u001b[38;5;241m.\u001b[39mdata\u001b[38;5;241m.\u001b[39mshape[\u001b[38;5;241m0\u001b[39m]\n\u001b[0;32m--> 105\u001b[0m \u001b[38;5;28mself\u001b[39m\u001b[38;5;241m.\u001b[39mbond_orders \u001b[38;5;241m=\u001b[39m numpy\u001b[38;5;241m.\u001b[39mmat(numpy\u001b[38;5;241m.\u001b[39mzeros((size,size),numpy\u001b[38;5;241m.\u001b[39mfloat))\n\u001b[1;32m    106\u001b[0m \u001b[38;5;28;01mfor\u001b[39;00m ii \u001b[38;5;129;01min\u001b[39;00m \u001b[38;5;28mrange\u001b[39m(size):\n\u001b[1;32m    107\u001b[0m     \u001b[38;5;28;01mfor\u001b[39;00m jj \u001b[38;5;129;01min\u001b[39;00m \u001b[38;5;28mrange\u001b[39m(ii,size):\n",
      "File \u001b[0;32m~/anaconda3/lib/python3.11/site-packages/numpy/__init__.py:305\u001b[0m, in \u001b[0;36m__getattr__\u001b[0;34m(attr)\u001b[0m\n\u001b[1;32m    300\u001b[0m     warnings\u001b[38;5;241m.\u001b[39mwarn(\n\u001b[1;32m    301\u001b[0m         \u001b[38;5;124mf\u001b[39m\u001b[38;5;124m\"\u001b[39m\u001b[38;5;124mIn the future `np.\u001b[39m\u001b[38;5;132;01m{\u001b[39;00mattr\u001b[38;5;132;01m}\u001b[39;00m\u001b[38;5;124m` will be defined as the \u001b[39m\u001b[38;5;124m\"\u001b[39m\n\u001b[1;32m    302\u001b[0m         \u001b[38;5;124m\"\u001b[39m\u001b[38;5;124mcorresponding NumPy scalar.\u001b[39m\u001b[38;5;124m\"\u001b[39m, \u001b[38;5;167;01mFutureWarning\u001b[39;00m, stacklevel\u001b[38;5;241m=\u001b[39m\u001b[38;5;241m2\u001b[39m)\n\u001b[1;32m    304\u001b[0m \u001b[38;5;28;01mif\u001b[39;00m attr \u001b[38;5;129;01min\u001b[39;00m __former_attrs__:\n\u001b[0;32m--> 305\u001b[0m     \u001b[38;5;28;01mraise\u001b[39;00m \u001b[38;5;167;01mAttributeError\u001b[39;00m(__former_attrs__[attr])\n\u001b[1;32m    307\u001b[0m \u001b[38;5;66;03m# Importing Tester requires importing all of UnitTest which is not a\u001b[39;00m\n\u001b[1;32m    308\u001b[0m \u001b[38;5;66;03m# cheap import Since it is mainly used in test suits, we lazy import it\u001b[39;00m\n\u001b[1;32m    309\u001b[0m \u001b[38;5;66;03m# here to save on the order of 10 ms of import time for most users\u001b[39;00m\n\u001b[1;32m    310\u001b[0m \u001b[38;5;66;03m#\u001b[39;00m\n\u001b[1;32m    311\u001b[0m \u001b[38;5;66;03m# The previous way Tester was imported also had a side effect of adding\u001b[39;00m\n\u001b[1;32m    312\u001b[0m \u001b[38;5;66;03m# the full `numpy.testing` namespace\u001b[39;00m\n\u001b[1;32m    313\u001b[0m \u001b[38;5;28;01mif\u001b[39;00m attr \u001b[38;5;241m==\u001b[39m \u001b[38;5;124m'\u001b[39m\u001b[38;5;124mtesting\u001b[39m\u001b[38;5;124m'\u001b[39m:\n",
      "\u001b[0;31mAttributeError\u001b[0m: module 'numpy' has no attribute 'float'.\n`np.float` was a deprecated alias for the builtin `float`. To avoid this error in existing code, use `float` by itself. Doing this will not modify any behavior and is safe. If you specifically wanted the numpy scalar type, use `np.float64` here.\nThe aliases was originally deprecated in NumPy 1.20; for more details and guidance see the original release note at:\n    https://numpy.org/devdocs/release/1.20.0-notes.html#deprecations"
     ]
    }
   ],
   "source": [
    "Result = HuckelSolver(z,n)"
   ]
  },
  {
   "cell_type": "markdown",
   "id": "bc2c47d2",
   "metadata": {},
   "source": [
    "### Step 4: Display and Manipulate the Result\n",
    "We now have all the information we need to **interpret** a Hückel system. Let us use some code to **print out** the results. I created a **library** that contains a single function called `Print_It_All()`. If we **pass** the HuckelSolver object to this function, it will **print** all the results that we are interested in. The file `print_shmo.py` contains the code needed. Make sure it is in the **same directory** as this notebook. "
   ]
  },
  {
   "cell_type": "code",
   "execution_count": 6,
   "id": "22313cf1",
   "metadata": {},
   "outputs": [
    {
     "name": "stdout",
     "output_type": "stream",
     "text": [
      "Results for Butadiene \n",
      "\n",
      "Energies and Eigenvalues\n",
      "from 'Result.energies' and 'numpy.array(Result.eigen_vectors).T)'\n",
      "----------------------------------------\n",
      "[-1.618 -0.618  0.618  1.618]\n",
      "----------------------------------------\n",
      "[[-0.372  0.602  0.602 -0.372]\n",
      " [-0.602  0.372 -0.372  0.602]\n",
      " [-0.602 -0.372 -0.372 -0.602]\n",
      " [-0.372 -0.602  0.602  0.372]]\n",
      "\n",
      "Energies and Probabilities (Magnitudes)\n",
      "from 'Result.energies' and 'numpy.array(Result.eigen_vectors).T)**2'\n",
      "----------------------------------------\n",
      "[-1.618 -0.618  0.618  1.618]\n",
      "----------------------------------------\n",
      "[[0.138 0.362 0.362 0.138]\n",
      " [0.362 0.138 0.138 0.362]\n",
      " [0.362 0.138 0.138 0.362]\n",
      " [0.138 0.362 0.362 0.138]]\n",
      "\n",
      "Electron Densities\n",
      "from 'Result.charge_densities'\n",
      "----------------------------------------\n",
      "[-1. -1. -1. -1.]\n",
      "\n",
      "Net Atomic Charges\n",
      "from 'Result.net_charges'\n",
      "----------------------------------------\n",
      "[ 0.  0. -0.  0.]\n",
      "\n",
      "Net Molecular Charge: 0.0\n",
      "\n",
      "Bond Orders\n",
      "from 'Result.bond_orders'\n",
      "----------------------------------------\n",
      "[[ 1.     0.894  0.    -0.447]\n",
      " [ 0.894  1.     0.447  0.   ]\n",
      " [ 0.     0.447  1.     0.894]\n",
      " [-0.447  0.     0.894  1.   ]]\n"
     ]
    }
   ],
   "source": [
    "from print_shmo import Print_It_All\n",
    "\n",
    "Print_It_All(Result, Name)"
   ]
  },
  {
   "cell_type": "markdown",
   "id": "52b7a9f7",
   "metadata": {},
   "source": [
    "## Summary\n",
    "We essentially wrote a **two-line program**. The **first** line used the interaction matrix and number of electrons to create the HuckelSolver object with all the solutions contained inside it. Then the **second** line printed out that information. Below is an example of the code that was executed above using the butadiene example.\n",
    "\n",
    "```python\n",
    "import shmo, numpy, print_shmo\n",
    "\n",
    "Name = \"Butadiene\"\n",
    "Connections = numpy.array([[0,1,0,0], [1,0,1,0], [0,1,0,1], [0,0,1,0]])\n",
    "z = -Connections\n",
    "n = 4\n",
    "\n",
    "Result = shmo.HuckelSolver(z,n)          # solve the matrix\n",
    "print_shmo.Print_It_All(Result, Name)    # print out the result \n",
    "```\n",
    "We set up the data and then **called** the two **tools** that were written for us in advance. *Python* is very simple when you let other people do all the work. **Take advantage** of tools that are available and give credit where it is due."
   ]
  },
  {
   "cell_type": "markdown",
   "id": "22f19f64",
   "metadata": {},
   "source": [
    "## A Challenge\n",
    "\n",
    "**Download** the Jupyter notebook for this chapter and **edit** it to remove all the stuff you dont want (my boring words, for example). Create a **lean and mean** SHMOT machine. You now will have a tool for all your future SHMOT calculations. Just **change** the data and **execute** the notebook."
   ]
  },
  {
   "cell_type": "markdown",
   "id": "50402a73",
   "metadata": {},
   "source": [
    "## Documentation\n",
    "\n",
    "The following *Python* commands were demonstrated in this workbook. They arte gathered here with links to the *Python* documentation.\n",
    "\n",
    "The documentation for the **NumPy** library can be found [here](https://numpy.org/doc/stable/).\n",
    "\n",
    "- [numpy.array()](https://numpy.org/doc/stable/reference/generated/numpy.array.html)\n",
    "- [shmo.HuckelSolver()](https://github.com/randlet/SHMO)"
   ]
  }
 ],
 "metadata": {
  "kernelspec": {
   "display_name": "Python 3 (ipykernel)",
   "language": "python",
   "name": "python3"
  },
  "language_info": {
   "codemirror_mode": {
    "name": "ipython",
    "version": 3
   },
   "file_extension": ".py",
   "mimetype": "text/x-python",
   "name": "python",
   "nbconvert_exporter": "python",
   "pygments_lexer": "ipython3",
   "version": "3.11.4"
  },
  "vscode": {
   "interpreter": {
    "hash": "31f2aee4e71d21fbe5cf8b01ff0e069b9275f58929596ceb00d14d90e3e16cd6"
   }
  }
 },
 "nbformat": 4,
 "nbformat_minor": 5
}