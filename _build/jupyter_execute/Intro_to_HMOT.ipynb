{
 "cells": [
  {
   "cell_type": "markdown",
   "id": "fdffee16",
   "metadata": {},
   "source": [
    "# HMOT with *Python*\n",
    "\n",
    "We have set up the **interaction matrix** for butadiene as follows.\n",
    "\n",
    "$$\n",
    "\\begin{bmatrix}\n",
    "    x        & 1      & 0      &  0 \\\\\n",
    "    1        & x      & 1      &  0 \\\\\n",
    "    0        & 1      & x      &  1 \\\\\n",
    "    0        & 0      & 1      &  x \\\\\n",
    "\\end{bmatrix}\n",
    "$$\n",
    "\n",
    "Below are instructions for obtaining the eigenvalues and eigenvectors using the `numpy.linalg.eig()` function.\n",
    "\n",
    "## Applying the Method\n",
    "\n",
    "All of the *Python* commands in this document are already entered and **ready to go** in the Jupyter notebook that accompanies this tutorial. You can **download** the notebook for this page using the link at the top right corner of the page.\n",
    "\n",
    "### Step 1\n",
    "\n",
    "Step one is to **number** the atoms in your &pi; system. We have numbered the carbons of butadiene **like so**&hellip;\n",
    "\n",
    "```{figure} images/1-butadiene.png\n",
    "---\n",
    "width: 150px\n",
    "name: fig1_1\n",
    "---\n",
    "*Butadiene with assigned numbering*\n",
    "```\n"
   ]
  },
  {
   "cell_type": "markdown",
   "id": "a52993ce",
   "metadata": {},
   "source": [
    "### Step 2\n",
    "\n",
    "We now must translate the interaction matrix into a **data struture** that we can manipulate in *Python*. We will be using a *NumPy* **array**. \n",
    "\n",
    "Recall that we has set $x = \\frac{\\alpha – E}{\\beta}$ and that will still be true here. However, the `eig()` function that we will be using can only work with numbers. The letter \"*x*\" will cause errors. We can avoid trouble by setting a **numeric** value for x. In practice, this will be to set the value of *x* to zero. The result of this statement is that we are effectively setting the start value of &alpha; to **zero**. We are saying that each atomic *p*-orbital starts at the same **relative energy** and that will be true if they are all carbon atoms.\n",
    "\n",
    "For the individual atoms we state that&hellip;\n",
    "\n",
    "$$\n",
    "\\begin{align*}\n",
    "0 & = \\frac{\\alpha – E}{\\beta} \\\\\n",
    "\\therefore E & = \\alpha \n",
    "\\end{align*}\n",
    "$$\n",
    "\n",
    "As a **quick rule**, we could say that we construct an interaction matrix by **starting** with a matrix of all zeros and inserting the value of one for all **connections** between carbon atoms. It's that easy. We now have the following **diagonal matrix**&hellip;\n",
    "\n",
    "$$\n",
    "\\begin{bmatrix}\n",
    "   0        & 1      & 0      &  0 \\\\\n",
    "   1        & 0      & 1      &  0 \\\\\n",
    "   0        & 1      & 0      &  1 \\\\\n",
    "   0        & 0      & 1      &  0 \\\\\n",
    "\\end{bmatrix}\n",
    "$$\n",
    "\n",
    " The eigenvalues of this matrix will correspond to the **relative energy** values above and below &alpha;. That energy will be the eigenvalue multiplied by &beta;. \n",
    "\n",
    "The code below will **buid** the matrix as a *NumPy* array."
   ]
  },
  {
   "cell_type": "code",
   "execution_count": 1,
   "id": "a08a4f74",
   "metadata": {},
   "outputs": [
    {
     "name": "stdout",
     "output_type": "stream",
     "text": [
      "[[0 1 0 0]\n",
      " [1 0 1 0]\n",
      " [0 1 0 1]\n",
      " [0 0 1 0]]\n"
     ]
    }
   ],
   "source": [
    "import numpy\n",
    "\n",
    "x=0      # set diagonal values to zero\n",
    "\n",
    "m = numpy.array([[x,1,0,0],\n",
    "                 [1,x,1,0],\n",
    "                 [0,1,x,1],\n",
    "                 [0,0,1,x]])   \n",
    "print(m)"
   ]
  },
  {
   "cell_type": "markdown",
   "id": "8a3023b9",
   "metadata": {},
   "source": [
    "### Step 3\n",
    "\n",
    "We will now calculate the eigenvalues and eigenvectors. Boom, **we're done**! The rest of this workbook is just about **interpreting** the results.\n",
    "\n",
    "\n",
    "\n"
   ]
  },
  {
   "cell_type": "code",
   "execution_count": 2,
   "id": "60e6e1b9",
   "metadata": {},
   "outputs": [
    {
     "name": "stdout",
     "output_type": "stream",
     "text": [
      "[ 1.61803399  0.61803399 -1.61803399 -0.61803399]\n",
      "\n",
      "[[ 0.37174803  0.60150096 -0.37174803 -0.60150096]\n",
      " [-0.60150096 -0.37174803 -0.60150096 -0.37174803]\n",
      " [ 0.60150096 -0.37174803 -0.60150096  0.37174803]\n",
      " [-0.37174803  0.60150096 -0.37174803  0.60150096]]\n"
     ]
    }
   ],
   "source": [
    "l,v = numpy.linalg.eig(m)\n",
    "l=-l\n",
    "print(l)\n",
    "print()\n",
    "print(v)"
   ]
  },
  {
   "cell_type": "markdown",
   "id": "825d2899",
   "metadata": {},
   "source": [
    "```{note}\n",
    "In the code above you will see that I **flipped** the signs of the eigenvalues. This is because the energy was **defined** earlier as $E = \\alpha -x \\cdot \\beta$. Take note of the negative sign for the relative energy term, $-x \\cdot \\beta$. A positive value is actually the **lowest energy**. I felt that it is easier to **interpret** if I apply that negative sign to the eigenvalues. This is why using a notebook like this to **document your procedure** is important. Now you know where the negative sign came from.\n",
    "```\n",
    "\n",
    "## Processing the Results\n",
    "\n",
    "The `eig()` function **found** the eigenvalues and their corresponding eigenvectors. It did not care about the **order** though. The code below will **sort** the eigenvalues in order from **lowest** energy to **highest** and then **sort** the eigenvectors **to match**."
   ]
  },
  {
   "cell_type": "code",
   "execution_count": 3,
   "id": "22d02826",
   "metadata": {},
   "outputs": [
    {
     "name": "stdout",
     "output_type": "stream",
     "text": [
      "orbital energy values\n",
      "[-1.618 -0.618  0.618  1.618]\n",
      "orbital coefficents\n",
      "[[-0.372 -0.602  0.602  0.372]\n",
      " [-0.602 -0.372 -0.372 -0.602]\n",
      " [-0.602  0.372 -0.372  0.602]\n",
      " [-0.372  0.602  0.602 -0.372]]\n"
     ]
    }
   ],
   "source": [
    "order = numpy.argsort(l) # create an array that represents the order of the values\n",
    "l = l[order]             # use the order to sort the eigenvalues\n",
    "v = v[:, order]          # # use the order to sort the eigenvectors\n",
    "\n",
    "# set print precision to 3 decimal places (will only appl to NumPy arrays)\n",
    "numpy.set_printoptions(precision=3)   \n",
    "# suppress scientific notation so small values read as 0 rather than 2E-29\n",
    "numpy.set_printoptions(suppress=True) \n",
    "\n",
    "print(\"orbital energy values\")\n",
    "print(l)\n",
    "print(\"orbital coefficents\")\n",
    "print(v)"
   ]
  },
  {
   "cell_type": "markdown",
   "id": "67c3fd0f",
   "metadata": {},
   "source": [
    "### Commentary\n",
    "\n",
    "You will see that each eigenvalue **corresponds** to the column below it, which contains the eigenvector. The **first** eigenvalue (`l[0]`) corresponds to the **first** column of the eigenvector matrix (`v[:,0]`). Observe that the lowest energy molecular orbital has **coefficients** that are all the same sign. There is **no node**, as expected.\n",
    "\n",
    "```{note}\n",
    "*Python* **starts** all arrays at position \"0\". So atoms #1 in butadiene is described by **row \\#0** in the matrix. Keep this in mind. Should we have numbered the diagram starting at zero? You can, just **docummnet your choices** so the reader knows what you are doing.\n",
    "```"
   ]
  },
  {
   "cell_type": "markdown",
   "id": "56dfa2c5",
   "metadata": {},
   "source": [
    "## MO Diagram\n",
    "\n",
    "We can use the eigenvalue results to **construct** an energy diagram for the &pi; MO system of butadiene. We can also use the coefficients for each atomic *p*-orbital to make **graphical representations** of the orbitals themselves. For example, the energy of the HOMO (the second lowest MO in this case) is at position 1 (the second position) in the two result arrays. We can **read** the values from the output above or we can display it directly as shown below."
   ]
  },
  {
   "cell_type": "code",
   "execution_count": 4,
   "id": "25b9d6ec",
   "metadata": {},
   "outputs": [
    {
     "name": "stdout",
     "output_type": "stream",
     "text": [
      "The energy for orbital #2 is alpha-0.618*beta \n",
      "\n",
      "The coefficents for orbital #2 are: [-0.602 -0.372  0.372  0.602]\n"
     ]
    }
   ],
   "source": [
    "MO = 2                    # The MO you want to grab\n",
    "\n",
    "position = MO-1           # location in array (0 is the first position)\n",
    "\n",
    "energy = l[position]\n",
    "print(f\"The energy for orbital #{position+1} is alpha{energy:+.3f}*beta \\n\")\n",
    "print(f\"The coefficents for orbital #{position+1} are: {v[:, position]}\")\n"
   ]
  },
  {
   "cell_type": "markdown",
   "id": "ece82a2f",
   "metadata": {},
   "source": [
    "With this information, we can construct the following **molecular orbital**. Observe that I scaled the *p*-orbitals to show a size that is **proportional** to their contribution. The actual molecular orbital will have a similar shape when calculated and visualized in much higher quality software. **Compare** it to the estimate given by SHMOT."
   ]
  },
  {
   "cell_type": "markdown",
   "id": "7204216d",
   "metadata": {},
   "source": [
    "\n",
    "```{figure} images/Butadiene_MO_2.png\n",
    "---\n",
    "width: 350px\n",
    "name: Butadiene_MO_2\n",
    "---\n",
    "*A molecular orbital of butadiene*\n",
    "```\n"
   ]
  },
  {
   "cell_type": "markdown",
   "id": "333de982",
   "metadata": {},
   "source": [
    "### Rinse & Repeat\n",
    "\n",
    "Now that you have **made one** molecular orbital, you can **make them all**. Just change the MO choice (MO = 1, MO = 2, etc&hellip;) in the code block above and use the energy and the coefficients to build your **diagram**. Below is my own version. You see that we **start** with four atomic *p*-orbitals at an energy value of &alpha;. When they are **combined**, they form four molecular &pi; orbitals. The **relative energies** are factors of &beta; and the geometries of the orbitals are given by the **coefficients** for each atomic orbital within a &pi; orbital.\n",
    "\n",
    "```{figure} images/Butadiene_MO_all4.png\n",
    "---\n",
    "width: 450px\n",
    "name: Butadiene_MO_all\n",
    "---\n",
    "*The complete &pi; molecular orbital diagram of butadiene*\n",
    "```"
   ]
  },
  {
   "cell_type": "markdown",
   "id": "a2b1f4b7",
   "metadata": {},
   "source": [
    "## Calculated Results\n",
    "\n",
    "We can make a visual diagram as above by **inspecting** the energies and the coefficients (the eigenvalues and eigenvectors). We can also get quantitative **information** from the eigenvector matrix about electron density, bond orders, free valence values and more. Its just **math**.\n",
    "\n",
    "The first important information we need to state is orbital **occupancy**. Butadiene has four electrons in the &pi; system. The **first two** orbitals are occupied and the final two are not, as seen in the diagram above. We can **express** this as an array of values. "
   ]
  },
  {
   "cell_type": "code",
   "execution_count": 5,
   "id": "727e376d",
   "metadata": {},
   "outputs": [],
   "source": [
    "Filled = [2,2,0,0]"
   ]
  },
  {
   "cell_type": "markdown",
   "id": "700bc5da",
   "metadata": {},
   "source": [
    "We now know where the **electrons** are and we have calculated the geometry of each **molecular orbital**. This will allow use to calculate **properties** that arise from electrons and molecular orbitals together."
   ]
  },
  {
   "cell_type": "markdown",
   "id": "fc88f3cb",
   "metadata": {},
   "source": [
    "### Electron Density\n",
    "For each atom, the electron density is the **square** of the atomic *p*-orbital **coefficient** multiplied by **number** of electrons in each orbital. \n",
    "\n",
    "Thus, the *&pi;*-electron **charge density** (a misnomer), *q<sub>r</sub>* at atom *r* is given by\n",
    "\n",
    "$$\n",
    "q_r = \\sum_i n_i c_{i,r}^2\n",
    "$$\n",
    "\n",
    "where *n<sub>i</sub>* is the **number** of electrons in the *i<sup>th</sup>* molecular orbital and *c<sub>i,r</sub>* is the **coefficient** of atom *r* in the *i<sup>th</sup>* molecular orbital.\n",
    "\n",
    "\n",
    "For butadiene, the electron density will be **even across** all atoms (in the Hückel approiximation) and so all atoms should have the **same charge** of zero. "
   ]
  },
  {
   "cell_type": "code",
   "execution_count": 6,
   "id": "f1a12528",
   "metadata": {},
   "outputs": [
    {
     "name": "stdout",
     "output_type": "stream",
     "text": [
      "Atom 0: electron density = 1.00, charge = +0.00\n",
      "Atom 1: electron density = 1.00, charge = +0.00\n",
      "Atom 2: electron density = 1.00, charge = -0.00\n",
      "Atom 3: electron density = 1.00, charge = +0.00\n",
      "----------\n",
      "Total electrons = 4.0\n",
      "Total charge = -0.0\n"
     ]
    }
   ],
   "source": [
    "Coefficients_Squared = v**2                                      # Square all the orbital coefficients to get matrix of probabilities\n",
    "Orbital_Contributions = Coefficients_Squared * Filled            # Create matrix of probabilites * electron occupancy\n",
    "Electron_Densities = numpy.sum(Orbital_Contributions, axis = 1)  # Sum the values for each atom to total up electron density to get array of e-density at each atom\n",
    "Charges = 1 - Electron_Densities                                 # Subtract the e-densities from 1 to get an array of charges\n",
    "Total_Electrons = numpy.sum(Electron_Densities)                  # Sum the array of densities. The value should total to # or electrons\n",
    "Total_Charge = numpy.sum(Charges)                                # Sum the array of charges to get value of the molecular charge\n",
    "\n",
    "axis0,axis1 = numpy.shape(v)                                     # axis of matrix is # of atoms\n",
    "for carbon in range(axis0):                                      # Print the results\n",
    "    print(\"Atom {}: electron density = {:.2f}, charge = {:+.2f}\"\n",
    "          .format(carbon, Electron_Densities[carbon], Charges[carbon]))\n",
    "print(\"----------\")\n",
    "print(\"Total electrons = {:.1f}\".format(Total_Electrons))\n",
    "print(\"Total charge = {:.1f}\".format(Total_Charge))\n"
   ]
  },
  {
   "cell_type": "markdown",
   "id": "c5e1c04a",
   "metadata": {},
   "source": [
    "### More properties\n",
    "\n",
    "There are more **electronic** properties that can be obtained from the orbital coefficients. \n",
    "\n",
    "#### Bond Orders\n",
    "\n",
    "Bond order is derived from the **sum** of the **products** of adjacent **coeficients** and number of **electrons**. The bond order between atoms *r* and *s* is *p<sub>r,s</sub>*. It can be expressed as&hellip;\n",
    "\n",
    "$$\n",
    "p_{r,s} = \\sum_i n_i c_{i,r} c_{i,s}\n",
    "$$\n",
    "\n",
    "where *n<sub>i</sub>* is the number of electrons in the *i<sup>th</sup>* molecular orbital and *c<sub>i,r</sub>* & *c<sub>i,r</sub>* are the coefficients of adjecent atoms in the bond in that *i<sup>th</sup>* molecular orbital. **Sum it up** and you get the &pi; bond order. If *p<sub>r,s</sub>* = 1 then we have a perfect double bond.  \n",
    "\n",
    "Applying a square function to the whole matrix was easy in the case of electron density, but now we would need to **write** a small amount of code to **iterate** through the coefficients and perform this calculation. I'm not going to do that because we will soon be using a package of code that does all this for us. It was written by **someone else** and I will not be reinventing that wheel.\n",
    "\n",
    "#### Delocalization Energy\n",
    "\n",
    "Delocalization energy, *E<sub>&pi;</sub>*, is the difference between the total electronic energy in our system and the total energy if we **separated** groups of atoms. For example, the electronic energy of butadiene is the sum of the products of the energy level of the *i<sup>th</sup>* molecular orbital, *&epsilon;<sub>i</sub>*, and the number of electrons in that orbital, *n<sub>i</sub>*.\n",
    "\n",
    "$$\n",
    "E_{\\pi} = \\sum_i n_i \\epsilon_{i}\n",
    "$$\n",
    "\n",
    "In butadiene, there are two electrons in the first MO (*&pi;<sub>1</sub>*) and two in the second (*&pi;<sub>2</sub>*). The **electronic energy** (in the &pi; system) is therefore&hellip;\n",
    "\n",
    "$$\n",
    "\\begin{align*}\n",
    "E_{\\pi} & = n_1 \\epsilon_{1}+n_2 \\epsilon_{2} \\\\\n",
    "E_{\\pi} & = 2(\\alpha - 1.618\\beta) +  2(\\alpha - 0.618\\beta) \\\\\n",
    "E_{\\pi} & = 4\\alpha - 4.472\\beta) \\\\\n",
    "\\end{align*}\n",
    "$$\n",
    "\n",
    "Now we need to **compare it** to a system where there has been a change in the &pi; system. One idea is to imagine that **one atom** is converted to *sp<sup>3</sup>*. We would then need to do a **new** Hückel analysis of the new system and **compare** the new delocalization to the former.\n",
    "\n",
    "\n",
    "#### Free Valence\n",
    "The maximum valence according to HMOT for a carbon atom is 4.732. **Subtract** bond orders for each carbon atom.\n",
    "Note $F_r = 3 + \\sqrt{3}$ for tertiary carbon (three connections), $F_r = 3 + \\sqrt{2}$ for secondary and $F_r = 3 + \\sqrt{1}$ (or $4.0$) for primary.  In all our SHMO systems we will see each carbon connected to three other atoms so we will use $F_r = 4.732$. Heteratoms (and the corresponding changes in polarity) will change these numbers but we will ignore that. \n",
    "\n",
    "So if we **add up** all the &pi; bond orders associated with a given atom and then add the value of 1.0 for each &sigma; bond we will get the **valence** at an atom. Subtract that value from 4.732 to obtain the **free valence** value for that atom. Larger free valence values indicate a more reactive site in the molecule (due to electronic structure. Physical structure and sterics will also play an important role.)\n",
    "\n",
    "#### Freeloading\n",
    "\n",
    "Free valence, delocalization energy and bond orders are simple to calculate but will require a small amount of **coding**. We will need to iterate through the eigenvectors and eigenvalues. I would do this except that there are many tools **already made** that we can use. Later we will switch to using the HückelSolver tool.\n",
    "\n",
    "## Summary\n",
    "\n",
    "We have explored constructing an **interaction matrix** as a *NumPy* array and using the eig() unction to obtain the eigenvalues and eigenvectors. We have **demonstrated** this with butadiene and used the results to calculate the **electron density** and **partial charge** at each atom.\n"
   ]
  },
  {
   "cell_type": "markdown",
   "id": "e00075b2",
   "metadata": {},
   "source": []
  }
 ],
 "metadata": {
  "kernelspec": {
   "display_name": "Python 3 (ipykernel)",
   "language": "python",
   "name": "python3"
  },
  "language_info": {
   "codemirror_mode": {
    "name": "ipython",
    "version": 3
   },
   "file_extension": ".py",
   "mimetype": "text/x-python",
   "name": "python",
   "nbconvert_exporter": "python",
   "pygments_lexer": "ipython3",
   "version": "3.9.7"
  },
  "vscode": {
   "interpreter": {
    "hash": "31f2aee4e71d21fbe5cf8b01ff0e069b9275f58929596ceb00d14d90e3e16cd6"
   }
  }
 },
 "nbformat": 4,
 "nbformat_minor": 5
}