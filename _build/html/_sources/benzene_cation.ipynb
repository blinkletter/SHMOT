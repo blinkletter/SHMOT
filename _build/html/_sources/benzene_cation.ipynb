{
 "cells": [
  {
   "cell_type": "markdown",
   "id": "0d2d6964",
   "metadata": {},
   "source": [
    "# Example\n",
    "\n",
    "How is SHMOT **useful**? It is mostly a teaching tool. Calculating the coefficients and electronic properties will build a better understanding of **conjugation**, **aromaticity** and **reactivity**. Let us use the example of the **benzyl cation**.\n",
    "\n",
    "## The Benzyl Cation\n",
    "\n",
    "Perhaps nothing is as **electron withdrawing** as a carbocation. The benzyl cation would be an extreme example of an electron-withdrawing group.\n"
   ]
  },
  {
   "cell_type": "markdown",
   "id": "af55dc26",
   "metadata": {},
   "source": [
    "### Step 1: Number the Atoms\n",
    "\n",
    "We will **draw** the benzyl cation and **number** the atoms.\n",
    "\n",
    "```{figure} images/benzylcation.png\n",
    "---\n",
    "width: 100px\n",
    "name: benzylcation\n",
    "---\n",
    "*The benzyl cation*\n",
    "```\n",
    "\n",
    "Is the **positive charge** really on the atom as shown? HMOT will reveal all.\n"
   ]
  },
  {
   "cell_type": "markdown",
   "id": "e3195ee0",
   "metadata": {},
   "source": [
    "### Step 2: Create The Interaction Matrix\n",
    "\n",
    "I will **copy and paste** the *Python* code from the previous chapter for the benzyl cation. I could easily type it in myself but since **it already exists** I will use it.\n"
   ]
  },
  {
   "cell_type": "code",
   "execution_count": 1,
   "id": "31b59e06",
   "metadata": {},
   "outputs": [],
   "source": [
    "import numpy\n",
    "\n",
    "## Benzyl Cation\n",
    "\n",
    "Name = \"benzyl cation\"\n",
    "Connections = numpy.array([[0,1,0,0,0,0,0],\n",
    "                           [1,0,1,0,0,0,1],\n",
    "                           [0,1,0,1,0,0,0],\n",
    "                           [0,0,1,0,1,0,0],\n",
    "                           [0,0,0,1,0,1,0],\n",
    "                           [0,0,0,0,1,0,1],\n",
    "                           [0,1,0,0,0,1,0]])\n",
    "\n",
    "z = -Connections    # The HuckelSolver uses negative numbers for some reason.\n",
    "n = 6"
   ]
  },
  {
   "cell_type": "markdown",
   "id": "f9ee5e27",
   "metadata": {},
   "source": [
    "### Step 3: Create the HuckelSolver Object\n",
    "\n",
    "We will use the HuckelSolver tool as before. Boom! Done!"
   ]
  },
  {
   "cell_type": "code",
   "execution_count": 2,
   "id": "2aa3acbd",
   "metadata": {},
   "outputs": [],
   "source": [
    "from shmo import HuckelSolver\n",
    "\n",
    "Result = HuckelSolver(z,n)"
   ]
  },
  {
   "cell_type": "markdown",
   "id": "bc2c47d2",
   "metadata": {},
   "source": [
    "### Step 4: Display  the Result\n",
    "\n",
    "We will use my `print_shmo.py` library and the `Print_It_All()` function to access the HMOT results."
   ]
  },
  {
   "cell_type": "code",
   "execution_count": 3,
   "id": "22313cf1",
   "metadata": {},
   "outputs": [
    {
     "name": "stdout",
     "output_type": "stream",
     "text": [
      "Results for benzyl cation \n",
      "\n",
      "Energies and Eigenvalues\n",
      "from 'Result.energies' and 'numpy.array(Result.eigen_vectors).T)'\n",
      "----------------------------------------\n",
      "[-2.101 -1.259 -1.    -0.     1.     1.259  2.101]\n",
      "----------------------------------------\n",
      "[[ 0.238  0.397  0.     0.756  0.    -0.397  0.238]\n",
      " [ 0.5    0.5    0.     0.     0.     0.5   -0.5  ]\n",
      " [ 0.406  0.116  0.5   -0.378 -0.5   -0.116  0.406]\n",
      " [ 0.354 -0.354  0.5    0.     0.5   -0.354 -0.354]\n",
      " [ 0.337 -0.562 -0.     0.378 -0.     0.562  0.337]\n",
      " [ 0.354 -0.354 -0.5    0.    -0.5   -0.354 -0.354]\n",
      " [ 0.406  0.116 -0.5   -0.378  0.5   -0.116  0.406]]\n",
      "\n",
      "Energies and Probabilities (Magnitudes)\n",
      "from 'Result.energies' and 'numpy.array(Result.eigen_vectors).T)**2'\n",
      "----------------------------------------\n",
      "[-2.101 -1.259 -1.    -0.     1.     1.259  2.101]\n",
      "----------------------------------------\n",
      "[[0.057 0.158 0.    0.571 0.    0.158 0.057]\n",
      " [0.25  0.25  0.    0.    0.    0.25  0.25 ]\n",
      " [0.165 0.014 0.25  0.143 0.25  0.014 0.165]\n",
      " [0.125 0.125 0.25  0.    0.25  0.125 0.125]\n",
      " [0.113 0.315 0.    0.143 0.    0.315 0.113]\n",
      " [0.125 0.125 0.25  0.    0.25  0.125 0.125]\n",
      " [0.165 0.014 0.25  0.143 0.25  0.014 0.165]]\n",
      "\n",
      "Electron Densities\n",
      "from 'Result.charge_densities'\n",
      "----------------------------------------\n",
      "[-0.429 -1.    -0.857 -1.    -0.857 -1.    -0.857]\n",
      "\n",
      "Net Atomic Charges\n",
      "from 'Result.net_charges'\n",
      "----------------------------------------\n",
      "[ 0.571  0.     0.143 -0.     0.143  0.     0.143]\n",
      "\n",
      "Net Molecular Charge: 1.0\n",
      "\n",
      "Bond Orders\n",
      "from 'Result.bond_orders'\n",
      "----------------------------------------\n",
      "[[ 0.429  0.635  0.286 -0.112 -0.286 -0.112  0.286]\n",
      " [ 0.635  1.     0.523  0.    -0.225  0.     0.523]\n",
      " [ 0.286  0.523  0.857  0.705  0.143 -0.295 -0.143]\n",
      " [-0.112  0.     0.705  1.     0.635 -0.    -0.295]\n",
      " [-0.286 -0.225  0.143  0.635  0.857  0.635  0.143]\n",
      " [-0.112  0.    -0.295 -0.     0.635  1.     0.705]\n",
      " [ 0.286  0.523 -0.143 -0.295  0.143  0.705  0.857]]\n"
     ]
    }
   ],
   "source": [
    "from print_shmo import Print_It_All\n",
    "\n",
    "Print_It_All(Result, Name)"
   ]
  },
  {
   "cell_type": "markdown",
   "id": "22f19f64",
   "metadata": {},
   "source": [
    "## MO Diagram\n",
    "\n",
    "First, lets **construct** a MO diagram using the coefficients and energies. **Observe** that the LUMO has the largest coefficients at the benzyl carbon and the *ortho* and *para* positions. This where **nucleophiles** might add. Nucleophiles can add to the benzyl cation where the largest part of the empty LUMO is located.\n",
    "\n",
    "But we are interested in **how** an EWG affects **electrophilic aromatic substitution**. The HOMO shows the coefficients are greatest in the *meta* and *ortho* positions. We know that EWG **deactivate** the *ortho* and *para* sites and that would **leave** the *meta* carbon as the location for electrophilic substitution.\n",
    "\n",
    "```{figure} images/benzylcationMO.png\n",
    "---\n",
    "width: 500px\n",
    "name: benzylcationMO\n",
    "---\n",
    "*The benzyl cation Hückel molecular orbital diagram*\n",
    "```\n",
    "\n",
    "## Bond Orders\n",
    "\n",
    "In **benzene**, all the bonds would have a &pi; order of 0.5 and a total bond order of 1.5. I read the **data** for the benzyl cation off the tables above and made this image. You can see that there is no longer perfect symmetry but the bonds are still all **partially** double bonds. The bond to the benzyl cation is drawn as a single bond but clearly has significant double bond character due to **conjugation**.\n",
    "\n",
    "```{figure} images/benzylcationbondorder.png\n",
    "---\n",
    "width: 200px\n",
    "name: benzylcationbondorder\n",
    "---\n",
    "*The bond orders in the benzyl cation HMOT model*\n",
    "```\n",
    "\n",
    "## Electron Density\n",
    "\n",
    "I read the reported values for electron density and created this **diagram**. You can see the **greatest** electron density where an electrophilic aromatic substitution could take place is the *meta* position.\n",
    "\n",
    "```{figure} images/benzylcationelectrondensity.png\n",
    "---\n",
    "width: 200px\n",
    "name: benzylcationelectrondensity\n",
    "---\n",
    "*The electron density in the benzyl cation HMOT model*\n",
    "```\n",
    "\n",
    "## Partial Charges\n",
    "\n",
    "I read the charges from the result data and created the following **diagram**. We can see that the **largest** charge is indeed resident on the benzyl carbon. With the positive charge also shared at the ortho and para positions. An electron-deficient carbon is **unlikely** to attach an electrophile. The *meta* carbon is all that is left.\n",
    "\n",
    "```{figure} images/benzylcationcharges.png\n",
    "---\n",
    "width: 200px\n",
    "name: benzylcationcharges\n",
    "---\n",
    "*The electron density in the benzyl cation HMOT model*\n",
    "```"
   ]
  },
  {
   "cell_type": "markdown",
   "id": "9b32db95",
   "metadata": {},
   "source": [
    "## A Challenge\n",
    "\n",
    "**Repeat** the calculation above but **add** two electrons to model the idea of a benzyl **anion**. That would be a very effective **electron-donating** group, would it not? What is the HOMO now? Would that HOMO **enable** electrophilic addition at the *ortho* and *para* positions as we would expect? How are **charges** and electron density affected? What are the **bond orders**? Draw new **diagrams** to collate this information and make conclusions.\n",
    "\n",
    "Perhaps a **better model** for an **electron-donating** group would be a methyl group (toluene) or oxide (phenol anion). Perhaps a better model for an **electron-withdrawing** group would be a carbonyl group (benzaldehyde). Model those and examine the *ortho*,*meta*,*para* changes in the benzene ring.\n",
    "\n",
    "We are **limited** in the choices of structure as we want to keep our Hückel systems **simple**. We could model nitrobenzene if we wanted to, but the polar parameter adjustments would be more complicated. The references in [chapter 3](Polar_Atoms_HMOT) will give you **details** about that if you want to go there.\n",
    "\n",
    "## Be Prepared\n",
    "\n",
    "We will be discussing the electronic properties of **naphthaline** and **azulene** in class. The interaction matrices are all set up for you in [chapter 4](SHMO_Github_more). Use them and **calculate** all the properties demonstrated in this worksheet. Make some diagrams and predict the regiochemistry in both cases. Are these molecules **non-polar** – or are the surprisingly **polar**?"
   ]
  },
  {
   "cell_type": "markdown",
   "id": "cde0a642",
   "metadata": {},
   "source": [
    "## Documentation\n",
    "\n",
    "The following *Python* commands were demonstrated in this workbook. They arte gathered here with links to the *Python* documentation.\n",
    "\n",
    "The documentation for the **NumPy** library can be found [here](https://numpy.org/doc/stable/).\n",
    "\n",
    "- [numpy.array()](https://numpy.org/doc/stable/reference/generated/numpy.array.html)\n",
    "- [shmo.HuckelSolver()](https://github.com/randlet/SHMO)\n"
   ]
  }
 ],
 "metadata": {
  "kernelspec": {
   "display_name": "Python 3 (ipykernel)",
   "language": "python",
   "name": "python3"
  },
  "language_info": {
   "codemirror_mode": {
    "name": "ipython",
    "version": 3
   },
   "file_extension": ".py",
   "mimetype": "text/x-python",
   "name": "python",
   "nbconvert_exporter": "python",
   "pygments_lexer": "ipython3",
   "version": "3.9.6"
  },
  "vscode": {
   "interpreter": {
    "hash": "31f2aee4e71d21fbe5cf8b01ff0e069b9275f58929596ceb00d14d90e3e16cd6"
   }
  }
 },
 "nbformat": 4,
 "nbformat_minor": 5
}
