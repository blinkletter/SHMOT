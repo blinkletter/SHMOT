{
 "cells": [
  {
   "cell_type": "markdown",
   "id": "fdffee16",
   "metadata": {},
   "source": [
    "# HMOT with Polar Atoms\n",
    "\n",
    "We have set up the **interaction matrix** for butadiene as follows.\n",
    "\n",
    "$$\n",
    "\\begin{bmatrix}\n",
    "    x        & 1      & 0      &  0 \\\\\n",
    "    1        & x      & 1      &  0 \\\\\n",
    "    0        & 1      & x      &  1 \\\\\n",
    "    0        & 0      & 1      &  x \\\\\n",
    "\\end{bmatrix}\n",
    "$$\n",
    "\n",
    "If we included an **oxygen atom** in the structure, would we have the same energies and geometries in our orbitals? No, we would not. We can **change the matrix** to give us more accurate results.\n",
    "\n",
    "## Atoms Other than Carbon\n",
    "\n",
    "The atomic *p*-orbitals were all considered to have an energy value of $\\alpha$. **Electronegative atoms** will have a different energy for *p*-atomic orbitals compared to carbon. They will also have a **different overlap** with adjacent orbitals due to the different energy level and different size. The coulomb and overlap integrals will be **different**.\n",
    "\n",
    "If we declare the original $\\alpha$ of a **carbon** atomic *p*-orbital to be $\\alpha_C$, the new **coulomb integral** will become $\\alpha_X = \\alpha_C + h_X\\beta$. The **energy** will be changed by a factor of $\\beta$. The **overlap integral** will be changed by a different factor, $k_X$. It becomes $\\beta_X=k_X \\beta$. The values of $h_X$ and $k_X$ for a given atom, X, have been determined and are available in **tables** in textbooks and websites. [^ref1][^ref2][^ref3]\n",
    "\n",
    "[^ref1]: \"A brief review and table of semiempirical parameters used in the Hueckel molecular orbital method\", William P. Purcell and Judith A. Singer, *Journal of Chemical & Engineering Data*, **1967**, *12*, 235-246. DOI:10.1021/je60033a020 \\[[Link](https://pubs.acs.org/doi/abs/10.1021/je60033a020)\\]\n",
    "\n",
    "[^ref2]: \"A Pariser-Parr-Pople-based set of Hueckel molecular orbital parameters\", F. A. Van-Catledge, *The Journal of Organic Chemistry*, **1980**, *45*, 4801-4802. DOI:10.1021/jo01311a060 \\[[Link](https://pubs-acs-org.proxy.library.upei.ca/doi/abs/10.1021/jo01311a060)\\]\n",
    "\n",
    "[^ref3]: \"Heteroatom parameters in Hückel Theory\", Timothy Hughbanks\n",
    "obtained on June 15, 2022 at \\[[Link](https://www.chem.tamu.edu/rgroup/hughbanks/courses/673/handouts/Huckel_Heteroatom_parameters.pdf)\\]\n",
    "\n",
    "[^ref4]: Ian Flemming, *Molecular Orbitals and Organic Chemical Reactions*, **2010**, Wiley. ISBN 9780470746585.\n",
    "\n",
    "Below is a short table of **selected** $h_X$ and $k_X$ values (from Flemming, pg. 59[^ref4]). Note that in the \"number of electrons\" column, one electron implies the atom is participating in a **covalent** &pi; bond and two electrons implies that the atom is donating a **lone pair** into the &pi; system. Also note that the first entry is for *sp<sup>2</sup>* carbon and the values of $h_X$ and $k_X$ will not alter the matrix.\n",
    "\n",
    " | Atom               | # of e<sup>–</sup> | $h_X$ | $k_X$ |\n",
    " | :---               |    :---:   | :---  | :---  |\n",
    " |   =C               | 1          | 0     | 1.0   |\n",
    " |   =N               | 1          | 0.5   | 1.0   |\n",
    " |   –N:              | 2          | 1.4   | 0.9   |\n",
    " |   =O               | 1          | 1.0   | 1.0   |\n",
    " |   –O:              | 2          | 2.0   | 0.8   |\n",
    " |   –CH<sub>3</sub>  | 2          | 2.0   | 0.7   |\n",
    "\n",
    "## Acrolein \n",
    "\n",
    "We will explore this idea by changing one of the carbon atoms in butadiene to an **oxygen**. We now have **acrolein**. We will now **repeat** all the steps for butadiene, but we need to change the interaction matrix to account for the **heteroatom**.\n",
    "\n",
    "\n",
    "### Step 1\n",
    "\n",
    "Step one is to **number** the atoms in your &pi; system. We have numbered the carbons of acrolein like so.\n",
    "\n",
    "```{figure} images/Acrolein.png\n",
    "---\n",
    "width: 150px\n",
    "name: fig1_1A\n",
    "---\n",
    "*Butadiene with assigned numbering*\n",
    "```\n"
   ]
  },
  {
   "cell_type": "markdown",
   "id": "a52993ce",
   "metadata": {},
   "source": [
    "### Step 2\n",
    "\n",
    "We now must create the interaction matrix and then translate it into a **data struture** that we can manipulate in *Python*. We will again be using a *NumPy* **array**. \n",
    "\n",
    "Let us **start** with a simple matrix that defines the connections. We have a matrix of zeros with *x* along the diagonal and values of one where there are bonds. The 4<sup>th</sup> atom is the **oxygen**.\n",
    "\n",
    "$$\n",
    "\\begin{bmatrix}\n",
    "   x        & 1      & 0      &  0 \\\\\n",
    "   1        & x      & 1      &  0 \\\\\n",
    "   0        & 1      & x      &  1 \\\\\n",
    "   0        & 0      & 1      &  x \\\\\n",
    "\\end{bmatrix}\n",
    "$$\n",
    "\n",
    "The polar atom will **affect** the position in the matrix that it **occupies** (the *x* at position 4,4) and the **adjacent** bonds. Recall that we defined $x = \\frac{\\alpha – E}{\\beta}$. And now we must change the value of $\\alpha$ by $h_X \\beta$. We will have&hellip;\n",
    "\n",
    "$$\n",
    "\\begin{align*}\n",
    "x & = \\frac{\\alpha + h_X \\beta – E}{\\beta} \\\\\n",
    "\\therefore x & = \\frac{\\alpha – E}{\\beta} + h_X \n",
    "\\end{align*}\n",
    "$$\n",
    "\n",
    "You can see that the **result** of the heteroatom is to **change** the value of *x*. The new value is $x + h_X$.\n",
    "\n",
    "For the **adjacent** atoms we had a value of $\\frac{\\beta}{\\beta}$ or one. Now the atoms adjacent to position 4,4 in the matrix (the oxygen) are **set** at $\\frac{k_X\\beta}{\\beta}$ or $k_X$.\n",
    "\n",
    "The **interaction matrix** will now look like this&hellip;\n",
    "\n",
    "$$\n",
    "\\begin{bmatrix}\n",
    "   x        & 1      & 0        &  0        \\\\\n",
    "   1        & x      & 1        &  0        \\\\\n",
    "   0        & 1      & x        &  k_X      \\\\\n",
    "   0        & 0      & k_X      &  x + h_X  \\\\\n",
    "\\end{bmatrix}\n",
    "$$\n",
    "\n",
    "Results are **more accurate** when we apply a 10% change to the coulomb integral adjacent to the heteroatom. So your **matrix** could look like the one below. We will use this **modification** in our calculations.\n",
    "\n",
    "$$\n",
    "\\begin{bmatrix}\n",
    "   x        & 1      & 0      &  0 \\\\\n",
    "   1        & x      & 1      &  0 \\\\\n",
    "   0        & 1      & x + \\frac{h_X}{10}      &  k_X \\\\\n",
    "   0        & 0      & k_X      &  x + h_X  \\\\\n",
    "\\end{bmatrix}\n",
    "$$\n",
    "\n",
    "So lets do this."
   ]
  },
  {
   "cell_type": "code",
   "execution_count": 1,
   "id": "a08a4f74",
   "metadata": {},
   "outputs": [
    {
     "name": "stdout",
     "output_type": "stream",
     "text": [
      "[[0.  1.  0.  0. ]\n",
      " [1.  0.  1.  0. ]\n",
      " [0.  1.  0.1 1. ]\n",
      " [0.  0.  1.  1. ]]\n"
     ]
    }
   ],
   "source": [
    "import numpy\n",
    "\n",
    "hX = 1.0   # coulomb integral adjustment for oxygen (carbonyl)\n",
    "kX = 1.0   # overlap integral adjustment for oxygen (carbonyl)\n",
    "\n",
    "x=0      # set diagonal values to zero\n",
    "\n",
    "m = numpy.array([[x, 1, 0,       0   ],\n",
    "                 [1, x, 1,       0   ],\n",
    "                 [0, 1, x+hX/10, 1*kX],\n",
    "                 [0, 0, 1*kX,    x+hX]])   \n",
    "print(m)"
   ]
  },
  {
   "cell_type": "markdown",
   "id": "8a3023b9",
   "metadata": {},
   "source": [
    "### Step 3\n",
    "\n",
    "The interaction matrix for acrolein is now **complete**. Observe that the diagonal is **no longer** a slash of zeros. The adjacent locations might also have changed, but the factor they were **multiplied** with was 1.0, so they **appear** unchanged in this case.\n",
    "\n",
    "We will now **calculate** the eigenvalues and eigenvectors. **Boom, we're done!** The rest of this workbook is just about **interpreting** the results."
   ]
  },
  {
   "cell_type": "code",
   "execution_count": 2,
   "id": "60e6e1b9",
   "metadata": {},
   "outputs": [
    {
     "name": "stdout",
     "output_type": "stream",
     "text": [
      "[ 1.5         0.31355287 -1.         -1.91355287]\n",
      "\n",
      "[[-4.44444444e-01 -6.47855367e-01 -5.77350269e-01  2.22304354e-01]\n",
      " [ 6.66666667e-01  2.03136911e-01 -5.77350269e-01  4.25391135e-01]\n",
      " [-5.55555556e-01  5.84161205e-01  8.64538304e-17  5.91704074e-01]\n",
      " [ 2.22222222e-01 -4.44718456e-01  5.77350269e-01  6.47695488e-01]]\n"
     ]
    }
   ],
   "source": [
    "l,v = numpy.linalg.eig(m)\n",
    "l=-l\n",
    "print(l)\n",
    "print()\n",
    "print(v)"
   ]
  },
  {
   "cell_type": "markdown",
   "id": "b37a03eb",
   "metadata": {},
   "source": [
    "The variable `l` is the **list** of eigenvalues and `v` is the **array** of eigenvectors. The sign was **flipped** on the eigenvalues so that the lowest energy orbitals will have negative values."
   ]
  },
  {
   "cell_type": "markdown",
   "id": "825d2899",
   "metadata": {},
   "source": [
    "## Processing the Results\n",
    "\n",
    "We will **sort** the energies (eigenvalues) and columns of coefficients (eigenvectors) as we did **previously**."
   ]
  },
  {
   "cell_type": "code",
   "execution_count": 3,
   "id": "22d02826",
   "metadata": {},
   "outputs": [
    {
     "name": "stdout",
     "output_type": "stream",
     "text": [
      "orbital energy values\n",
      "[-1.914 -1.     0.314  1.5  ]\n",
      "orbital coefficents\n",
      "[[ 0.222 -0.577 -0.648 -0.444]\n",
      " [ 0.425 -0.577  0.203  0.667]\n",
      " [ 0.592  0.     0.584 -0.556]\n",
      " [ 0.648  0.577 -0.445  0.222]]\n"
     ]
    }
   ],
   "source": [
    "order = numpy.argsort(l) # create an array that represents the order of the values\n",
    "l = l[order]             # use the order to sort the eigenvalues\n",
    "v = v[:, order]          # # use the order to sort the eigenvectors\n",
    "\n",
    "# set print precision to 3 decimal places (will only appl to NumPy arrays)\n",
    "numpy.set_printoptions(precision=3)   \n",
    "# suppress scientific notation so small values read as 0 rather than 2E-29\n",
    "numpy.set_printoptions(suppress=True) \n",
    "\n",
    "print(\"orbital energy values\")\n",
    "print(l)\n",
    "print(\"orbital coefficents\")\n",
    "print(v)"
   ]
  },
  {
   "cell_type": "markdown",
   "id": "56dfa2c5",
   "metadata": {},
   "source": [
    "## MO Diagram\n",
    "\n",
    "We can use the eigenvalue results to construct an **energy diagram** for the &pi; MO system of acrolein. We can also use the coefficients for each atomic *p*-orbital to make graphical representations of the **orbitals** themselves. For example, the energy of the HOMO (the second lowest MO in this case) is at position 1 (the second position) in the two arrays. We can read the values from the output above or we can **display** it directly as shown below."
   ]
  },
  {
   "cell_type": "code",
   "execution_count": 4,
   "id": "25b9d6ec",
   "metadata": {},
   "outputs": [
    {
     "name": "stdout",
     "output_type": "stream",
     "text": [
      "The energy for orbital #2 is alpha-1.000*beta \n",
      "\n",
      "The coefficents for orbital #2 are: [-0.577 -0.577  0.     0.577]\n"
     ]
    }
   ],
   "source": [
    "MO = 2                    # The MO you want to grab\n",
    "\n",
    "position = MO-1           # location in array (0 is the first position)\n",
    "\n",
    "energy = l[position]\n",
    "print(f\"The energy for orbital #{position+1} is alpha{energy:+.3f}*beta \\n\")\n",
    "print(f\"The coefficents for orbital #{position+1} are: {v[:, position]}\")\n"
   ]
  },
  {
   "cell_type": "markdown",
   "id": "ece82a2f",
   "metadata": {},
   "source": [
    "With this information, we can **construct** the molecular orbitals as was demonstrated in the previous butadiene example. **Compare** the SHMOT results with the surfaces calculated for the molecular orbitals using much more expensive math. I think that the simple diagram derived from the eigenvectors is much more **informative**. What's your opinion?"
   ]
  },
  {
   "cell_type": "markdown",
   "id": "7204216d",
   "metadata": {},
   "source": [
    "```{figure} images/Acrolein_MOs.png\n",
    "---\n",
    "width: 600px\n",
    "name: Acrolein_MOs\n",
    "---\n",
    "*A molecular orbital diagram of acrolein*"
   ]
  },
  {
   "cell_type": "markdown",
   "id": "a2b1f4b7",
   "metadata": {},
   "source": [
    "## Calculated Results\n",
    "\n",
    "Let us calculate the **electron density** and partial **charges** at each atom. "
   ]
  },
  {
   "cell_type": "markdown",
   "id": "fc88f3cb",
   "metadata": {},
   "source": [
    "### Electron Density\n",
    "\n",
    "As you may expect, the oxygen will have a **slight negative** charge and the adjacent carbon will be **slightly positive**. Also observe how resonance is revealed in the math and the terminal carbon is **sharing the charge** with the carbonyl carbon."
   ]
  },
  {
   "cell_type": "code",
   "execution_count": 5,
   "id": "f1a12528",
   "metadata": {},
   "outputs": [
    {
     "name": "stdout",
     "output_type": "stream",
     "text": [
      "Atom 1: electron density = 0.77, charge = +0.23\n",
      "Atom 2: electron density = 1.03, charge = -0.03\n",
      "Atom 3: electron density = 0.70, charge = +0.30\n",
      "Atom 4: electron density = 1.51, charge = -0.51\n",
      "----------\n",
      "Total electrons = 4.0\n",
      "Total charge = 0.0\n"
     ]
    }
   ],
   "source": [
    "Filled = [2,2,0,0]                                               # locations of electrons\n",
    "\n",
    "Coefficients_Squared = v**2                                      # Square all the orbital coefficients to get matrix of probabilities\n",
    "Orbital_Contributions = Coefficients_Squared * Filled            # Create matrix of probabilites * electron occupancy\n",
    "Electron_Densities = numpy.sum(Orbital_Contributions, axis = 1)  # Sum the values for each atom to total up electron density to get array of e-density at each atom\n",
    "Charges = 1 - Electron_Densities                                 # Subtract the e-densities from 1 to get an array of charges\n",
    "Total_Electrons = numpy.sum(Electron_Densities)                  # Sum the array of densities. The value should total to # or electrons\n",
    "Total_Charge = numpy.sum(Charges)                                # Sum the array of charges to get value of the molecular charge\n",
    "\n",
    "axis0,axis1 = numpy.shape(v)                                     # axis of matrix is # of atoms\n",
    "for carbon in range(axis0):                                      # Print the results\n",
    "    print(f\"Atom {carbon+1}: electron density = {Electron_Densities[carbon]:.2f}, charge = {Charges[carbon]:+.2f}\")\n",
    "print(\"----------\")\n",
    "print(f\"Total electrons = {Total_Electrons:.1f}\")\n",
    "print(f\"Total charge = {Total_Charge:.1f}\")\n"
   ]
  },
  {
   "cell_type": "markdown",
   "id": "dd4eb787",
   "metadata": {},
   "source": []
  },
  {
   "cell_type": "markdown",
   "id": "c5e1c04a",
   "metadata": {},
   "source": [
    "## Summary\n",
    "\n",
    "We have explored constructing an interaction matrix for a polar molecule and calculating the **molecular orbitals** using SHMOT. In the example of **acrolein** we observe that the molecule has an uneven distribution of charge, as expected."
   ]
  },
  {
   "cell_type": "markdown",
   "id": "e00075b2",
   "metadata": {},
   "source": [
    "## Documentation\n",
    "\n",
    "The following *Python* commands were demonstrated in this workbook. They arte gathered here with links to the *Python* documentation.\n",
    "\n",
    "The documentation for the **NumPy** library can be found [here](https://numpy.org/doc/stable/).\n",
    "\n",
    "- [numpy.array()](https://numpy.org/doc/stable/reference/generated/numpy.array.html)\n",
    "- [numpy.argsort()](https://numpy.org/doc/stable/reference/generated/numpy.argsort.html)\n",
    "- [numpy.linalg.eig()](https://numpy.org/doc/stable/reference/generated/numpy.linalg.eig.html)\n",
    "- [numpy.shape()](https://numpy.org/doc/stable/reference/generated/numpy.shape.html)\n",
    "- [numpy.sum()](https://numpy.org/doc/stable/reference/generated/numpy.sum.html)\n",
    "- [numpy.set_printoptions()](https://numpy.org/doc/stable/reference/generated/numpy.set_printoptions.html)"
   ]
  }
 ],
 "metadata": {
  "kernelspec": {
   "display_name": "Python 3 (ipykernel)",
   "language": "python",
   "name": "python3"
  },
  "language_info": {
   "codemirror_mode": {
    "name": "ipython",
    "version": 3
   },
   "file_extension": ".py",
   "mimetype": "text/x-python",
   "name": "python",
   "nbconvert_exporter": "python",
   "pygments_lexer": "ipython3",
   "version": "3.9.6"
  },
  "vscode": {
   "interpreter": {
    "hash": "31f2aee4e71d21fbe5cf8b01ff0e069b9275f58929596ceb00d14d90e3e16cd6"
   }
  }
 },
 "nbformat": 4,
 "nbformat_minor": 5
}
